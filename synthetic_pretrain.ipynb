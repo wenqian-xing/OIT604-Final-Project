{
 "cells": [
  {
   "cell_type": "code",
   "execution_count": 1,
   "id": "a61de0b7-e533-48d9-8d6f-ef62c5bd0c79",
   "metadata": {
    "id": "a61de0b7-e533-48d9-8d6f-ef62c5bd0c79"
   },
   "outputs": [],
   "source": [
    "import numpy as np\n",
    "import scipy.stats as stats\n",
    "import matplotlib.pyplot as plt\n",
    "from tqdm import tqdm"
   ]
  },
  {
   "cell_type": "code",
   "execution_count": 2,
   "id": "QZ1jIrT5yMAd",
   "metadata": {
    "colab": {
     "base_uri": "https://localhost:8080/"
    },
    "id": "QZ1jIrT5yMAd",
    "outputId": "72e2bfc8-c49e-4ae8-be19-31d43d27480a"
   },
   "outputs": [
    {
     "name": "stdout",
     "output_type": "stream",
     "text": [
      "Mounted at /content/drive\n"
     ]
    }
   ],
   "source": [
    "from google.colab import drive\n",
    "drive.mount('/content/drive')"
   ]
  },
  {
   "cell_type": "code",
   "execution_count": 3,
   "id": "evO0OutljQS2",
   "metadata": {
    "colab": {
     "base_uri": "https://localhost:8080/"
    },
    "id": "evO0OutljQS2",
    "outputId": "7a899e66-2e0e-4d99-877a-f77cb3f3c3c8"
   },
   "outputs": [
    {
     "name": "stdout",
     "output_type": "stream",
     "text": [
      "Thu Nov 14 08:24:02 2024       \n",
      "+---------------------------------------------------------------------------------------+\n",
      "| NVIDIA-SMI 535.104.05             Driver Version: 535.104.05   CUDA Version: 12.2     |\n",
      "|-----------------------------------------+----------------------+----------------------+\n",
      "| GPU  Name                 Persistence-M | Bus-Id        Disp.A | Volatile Uncorr. ECC |\n",
      "| Fan  Temp   Perf          Pwr:Usage/Cap |         Memory-Usage | GPU-Util  Compute M. |\n",
      "|                                         |                      |               MIG M. |\n",
      "|=========================================+======================+======================|\n",
      "|   0  NVIDIA A100-SXM4-40GB          Off | 00000000:00:04.0 Off |                    0 |\n",
      "| N/A   30C    P0              43W / 400W |      2MiB / 40960MiB |      0%      Default |\n",
      "|                                         |                      |             Disabled |\n",
      "+-----------------------------------------+----------------------+----------------------+\n",
      "                                                                                         \n",
      "+---------------------------------------------------------------------------------------+\n",
      "| Processes:                                                                            |\n",
      "|  GPU   GI   CI        PID   Type   Process name                            GPU Memory |\n",
      "|        ID   ID                                                             Usage      |\n",
      "|=======================================================================================|\n",
      "|  No running processes found                                                           |\n",
      "+---------------------------------------------------------------------------------------+\n"
     ]
    }
   ],
   "source": [
    "gpu_info = !nvidia-smi\n",
    "gpu_info = '\\n'.join(gpu_info)\n",
    "if gpu_info.find('failed') >= 0:\n",
    "  print('Not connected to a GPU')\n",
    "else:\n",
    "  print(gpu_info)"
   ]
  },
  {
   "cell_type": "code",
   "execution_count": 4,
   "id": "af90b400-b46b-4840-9392-3ce1c703bc20",
   "metadata": {
    "id": "af90b400-b46b-4840-9392-3ce1c703bc20"
   },
   "outputs": [],
   "source": [
    "# Parameters\n",
    "num_actions_train = 2500  # Number of actions/articles in training dataset\n",
    "num_actions_val = 1000    # Number of actions/articles in validation dataset\n",
    "T_train = 500             # Number of time periods for outcomes per action in training\n",
    "T_val = 500               # Number of time periods for outcomes per action in validation\n",
    "\n",
    "# Data generation\n",
    "np.random.seed(42)  # Set random seed for reproducibility\n",
    "\n",
    "def mix_beta(z):\n",
    "    Z1, Z2 = z\n",
    "    if np.random.rand() < 0.5:\n",
    "        alpha, beta = 25 * Z1 + 1, 25 * (1 - Z1) + 1\n",
    "    else:\n",
    "        alpha, beta = 25 * (1 - Z2) + 1, 25 * Z2 + 1\n",
    "    return alpha, beta\n",
    "\n",
    "# Function to generate dataset\n",
    "def generate_dataset(num_actions, T):\n",
    "    # Step 1: Sample Z(a) for each action (Z1, Z2) independently from Uniform(0, 0.25)\n",
    "    Z = np.random.uniform(0, 0.25, size=(num_actions, 2))\n",
    "\n",
    "    # Step 2: Sample success rate (mu_infinity) from a mixture of Beta distributions\n",
    "    mu_infinity = []\n",
    "    for z in Z:\n",
    "        alpha, beta = mix_beta(z)\n",
    "        mu = stats.beta.rvs(alpha, beta)  # Sample from the Beta distribution\n",
    "        mu_infinity.append(mu)\n",
    "\n",
    "    mu_infinity = np.array(mu_infinity)\n",
    "\n",
    "    # Step 3: Generate outcomes Y_t for each action based on mu_infinity\n",
    "    Y = np.zeros((num_actions, T))\n",
    "    for i, mu in enumerate(mu_infinity):\n",
    "        Y[i, :] = np.random.binomial(1, mu, size=T)\n",
    "\n",
    "    return Z, mu_infinity, Y\n",
    "\n",
    "# Generate training dataset\n",
    "Z_train, mu_infinity_train, Y_train = generate_dataset(num_actions_train, T_train)\n",
    "\n",
    "# Generate validation dataset\n",
    "Z_val, mu_infinity_val, Y_val = generate_dataset(num_actions_val, T_val)"
   ]
  },
  {
   "cell_type": "code",
   "execution_count": 5,
   "id": "5ed7157b-53d7-4fd9-97be-3220b82da675",
   "metadata": {
    "colab": {
     "base_uri": "https://localhost:8080/",
     "height": 1000
    },
    "id": "5ed7157b-53d7-4fd9-97be-3220b82da675",
    "outputId": "9b12cb1f-def3-4c00-e547-4b341d7c3c55"
   },
   "outputs": [
    {
     "data": {
      "image/png": "[encoded data removed]",
      "text/plain": [
       "<Figure size 640x480 with 1 Axes>"
      ]
     },
     "metadata": {},
     "output_type": "display_data"
    },
    {
     "data": {
      "image/png": "[encoded data removed]",
      "text/plain": [
       "<Figure size 640x480 with 1 Axes>"
      ]
     },
     "metadata": {},
     "output_type": "display_data"
    },
    {
     "name": "stdout",
     "output_type": "stream",
     "text": [
      "Training Action 1 (mu_infinity = 0.19): Outcomes = [1. 0. 0. 0. 0. 0. 1. 0. 1. 0.]\n",
      "Training Action 2 (mu_infinity = 0.22): Outcomes = [1. 0. 0. 0. 1. 1. 1. 0. 0. 0.]\n",
      "Training Action 3 (mu_infinity = 0.06): Outcomes = [0. 0. 0. 1. 0. 0. 0. 0. 0. 0.]\n",
      "Training Action 4 (mu_infinity = 0.04): Outcomes = [0. 0. 0. 0. 1. 0. 0. 0. 0. 0.]\n",
      "Training Action 5 (mu_infinity = 0.83): Outcomes = [1. 1. 1. 1. 1. 1. 1. 1. 1. 1.]\n",
      "Validation Action 1 (mu_infinity = 0.76): Outcomes = [1. 1. 1. 0. 0. 1. 1. 1. 1. 1.]\n",
      "Validation Action 2 (mu_infinity = 0.87): Outcomes = [1. 1. 1. 1. 1. 1. 1. 1. 1. 1.]\n",
      "Validation Action 3 (mu_infinity = 0.12): Outcomes = [0. 0. 0. 0. 0. 0. 0. 0. 0. 0.]\n",
      "Validation Action 4 (mu_infinity = 0.15): Outcomes = [1. 0. 0. 0. 0. 0. 0. 0. 1. 0.]\n",
      "Validation Action 5 (mu_infinity = 0.20): Outcomes = [0. 0. 0. 1. 0. 0. 0. 0. 0. 0.]\n"
     ]
    }
   ],
   "source": [
    "# Visualizing the distribution of mu_infinity for training dataset\n",
    "plt.hist(mu_infinity_train, bins=30, color='c', edgecolor='k', alpha=0.7)\n",
    "plt.xlabel('Success Rate (mu_infinity) - Training')\n",
    "plt.ylabel('Frequency')\n",
    "plt.title('Distribution of Success Rates (mu_infinity) - Training Dataset')\n",
    "plt.show()\n",
    "\n",
    "# Visualizing the distribution of mu_infinity for validation dataset\n",
    "plt.hist(mu_infinity_val, bins=30, color='m', edgecolor='k', alpha=0.7)\n",
    "plt.xlabel('Success Rate (mu_infinity) - Validation')\n",
    "plt.ylabel('Frequency')\n",
    "plt.title('Distribution of Success Rates (mu_infinity) - Validation Dataset')\n",
    "plt.show()\n",
    "\n",
    "# Displaying some generated outcomes for training dataset\n",
    "for i in range(5):\n",
    "    print(f\"Training Action {i+1} (mu_infinity = {mu_infinity_train[i]:.2f}): Outcomes = {Y_train[i, :10]}\")\n",
    "\n",
    "# Displaying some generated outcomes for validation dataset\n",
    "for i in range(5):\n",
    "    print(f\"Validation Action {i+1} (mu_infinity = {mu_infinity_val[i]:.2f}): Outcomes = {Y_val[i, :10]}\")"
   ]
  },
  {
   "cell_type": "code",
   "execution_count": 6,
   "id": "8b3f0826-4622-4c05-960d-2c4833bf95e2",
   "metadata": {
    "id": "8b3f0826-4622-4c05-960d-2c4833bf95e2"
   },
   "outputs": [],
   "source": [
    "import torch\n",
    "import torch.nn as nn\n",
    "import torch.optim as optim\n",
    "from torch.utils.data import DataLoader, TensorDataset"
   ]
  },
  {
   "cell_type": "code",
   "execution_count": null,
   "id": "a540ddbb-f442-463e-a36c-a980f728ba6b",
   "metadata": {
    "id": "a540ddbb-f442-463e-a36c-a980f728ba6b"
   },
   "outputs": [],
   "source": [
    "# Convert data to PyTorch tensors\n",
    "Z_train_tensor = torch.tensor(Z_train, dtype=torch.float32)\n",
    "Y_train_tensor = torch.tensor(Y_train, dtype=torch.float32)\n",
    "Z_val_tensor = torch.tensor(Z_val, dtype=torch.float32)\n",
    "Y_val_tensor = torch.tensor(Y_val, dtype=torch.float32)\n",
    "\n",
    "# Define the Flexible Neural Network model\n",
    "class FlexibleNN(nn.Module):\n",
    "    def __init__(self, input_dim=22):\n",
    "        super(FlexibleNN, self).__init__()\n",
    "        self.fc1 = nn.Linear(input_dim, 50)\n",
    "        self.fc2 = nn.Linear(50, 50)\n",
    "        self.fc3 = nn.Linear(50, 1)\n",
    "        self.relu = nn.ReLU()\n",
    "        self.sigmoid = nn.Sigmoid()\n",
    "\n",
    "    def forward(self, Z, summary_stat):\n",
    "        x = torch.cat((Z, summary_stat.repeat(1, 10)), dim=1)  # Repeat the summary stat tuple 10 times\n",
    "        x = self.fc1(x)\n",
    "        x = self.relu(x)\n",
    "        x = self.fc2(x)\n",
    "        x = self.relu(x)\n",
    "        x = self.fc3(x)\n",
    "        x = self.sigmoid(x)\n",
    "        return x\n",
    "\n",
    "# Define the Beta-Bernoulli NN model\n",
    "class BetaBernoulliNN(nn.Module):\n",
    "    def __init__(self, input_dim=22):\n",
    "        super(BetaBernoulliNN, self).__init__()\n",
    "        self.alpha_mlp = nn.Sequential(\n",
    "            nn.Linear(input_dim, 50),\n",
    "            nn.ReLU(),\n",
    "            nn.Linear(50, 50),\n",
    "            nn.ReLU(),\n",
    "            nn.Linear(50, 1),\n",
    "            nn.ReLU()\n",
    "        )\n",
    "        self.beta_mlp = nn.Sequential(\n",
    "            nn.Linear(input_dim, 50),\n",
    "            nn.ReLU(),\n",
    "            nn.Linear(50, 50),\n",
    "            nn.ReLU(),\n",
    "            nn.Linear(50, 1),\n",
    "            nn.ReLU()\n",
    "        )\n",
    "\n",
    "        # Initialize bias terms to 1 to avoid starting with Beta parameters of value 0\n",
    "        for layer in [self.alpha_mlp[-2], self.beta_mlp[-2]]:\n",
    "            nn.init.constant_(layer.bias, 1.0)\n",
    "\n",
    "    def forward(self, Z, summary_stat):\n",
    "        x = torch.cat((Z, summary_stat.repeat(1, 10)), dim=1)  # Repeat the summary stat tuple 10 times\n",
    "        alpha = self.alpha_mlp(x)\n",
    "        beta = self.beta_mlp(x)\n",
    "        # return alpha / (alpha + beta)\n",
    "        return alpha, beta, alpha / (alpha + beta)"
   ]
  },
  {
   "cell_type": "code",
   "execution_count": 9,
   "id": "7XFPtKtH0Nvm",
   "metadata": {
    "id": "7XFPtKtH0Nvm"
   },
   "outputs": [],
   "source": [
    "# Training phase modification with new loss function\n",
    "def train_autoregressive_model(model, train_loader, optimizer, epochs):\n",
    "    device = torch.device(\"cuda\" if torch.cuda.is_available() else \"cpu\")\n",
    "    model = model.to(device)  # Move model to GPU if available\n",
    "    model.train()  # Set the model to training mode\n",
    "\n",
    "    for epoch in tqdm(range(epochs)):\n",
    "        running_loss = 0.0\n",
    "        for Z_batch, Y_batch in train_loader:\n",
    "            # Move data to GPU if available\n",
    "            Z_batch, Y_batch = Z_batch.to(device), Y_batch.to(device)\n",
    "\n",
    "            # Initialize total loss for the batch\n",
    "            tot_loss = 0.0\n",
    "\n",
    "            # Sequentially calculate the loss for each time step t\n",
    "            for t in range(1, Y_batch.shape[1] + 1):\n",
    "                # Get the sequence of previous outcomes up to time t-1\n",
    "                if t == 1:\n",
    "                    previous_outcomes = torch.zeros((Y_batch.shape[0], 1), device=device)  # No previous outcomes at t=1\n",
    "                else:\n",
    "                    previous_outcomes = Y_batch[:, :t-1]\n",
    "\n",
    "                # Compute summary statistics (mean, 1 / (1 + N_a)) based on previous outcomes\n",
    "                stat_1 = previous_outcomes.mean(dim=1, keepdim=True)\n",
    "                stat_2 = torch.tensor([1 / t] * previous_outcomes.shape[0], device=device).reshape(-1, 1)\n",
    "                summary_stat_t = torch.cat((stat_1, stat_2), dim=1)\n",
    "\n",
    "                # Forward pass to get model outputs\n",
    "                # outputs = model(Z_batch, summary_stat_t)\n",
    "                _, _, outputs = model(Z_batch, summary_stat_t)\n",
    "\n",
    "                # Compute the log-probability for the current time step t\n",
    "                Y_t = Y_batch[:, t-1].unsqueeze(1)\n",
    "                log_probs = Y_t * torch.log(outputs + 1e-9) + (1 - Y_t) * torch.log(1 - outputs + 1e-9)\n",
    "\n",
    "                # Accumulate negative log-likelihood\n",
    "                tot_loss += -torch.sum(log_probs)\n",
    "\n",
    "            # Backward pass and optimization\n",
    "            optimizer.zero_grad()\n",
    "            tot_loss.backward()\n",
    "            optimizer.step()\n",
    "\n",
    "            running_loss += tot_loss.item()\n",
    "\n",
    "        # Print loss for every 100 epochs\n",
    "        if (epoch + 1) % 100 == 0:\n",
    "            avg_loss = running_loss / len(train_loader)\n",
    "            print(f\"Epoch [{epoch+1}/{epochs}], Loss: {avg_loss:.4f}\")\n",
    "\n",
    "    print(\"Training completed.\")\n"
   ]
  },
  {
   "cell_type": "code",
   "execution_count": 10,
   "id": "dc82c268-f1dc-4fe0-aef9-63fca4305d96",
   "metadata": {
    "id": "dc82c268-f1dc-4fe0-aef9-63fca4305d96"
   },
   "outputs": [],
   "source": [
    "batch_size = 500          # Batch size for training\n",
    "learning_rate = 0.001     # Learning rate for optimizer\n",
    "epochs = 1000             # Number of epochs for training\n",
    "weight_decay = 0.01       # Weight decay for AdamW optimizer"
   ]
  },
  {
   "cell_type": "code",
   "execution_count": null,
   "id": "5c34b006-4ebc-4602-8e25-0231ed84f04d",
   "metadata": {
    "colab": {
     "base_uri": "https://localhost:8080/"
    },
    "id": "5c34b006-4ebc-4602-8e25-0231ed84f04d",
    "outputId": "d34cab2b-a278-41b3-8d9d-df9b7151742b"
   },
   "outputs": [
    {
     "name": "stderr",
     "output_type": "stream",
     "text": [
      " 10%|█         | 100/1000 [05:15<47:22,  3.16s/it]"
     ]
    },
    {
     "name": "stdout",
     "output_type": "stream",
     "text": [
      "Epoch [100/1000], Loss: 99769.2297\n"
     ]
    },
    {
     "name": "stderr",
     "output_type": "stream",
     "text": [
      " 20%|██        | 200/1000 [10:31<42:03,  3.15s/it]"
     ]
    },
    {
     "name": "stdout",
     "output_type": "stream",
     "text": [
      "Epoch [200/1000], Loss: 99526.0328\n"
     ]
    },
    {
     "name": "stderr",
     "output_type": "stream",
     "text": [
      " 30%|███       | 300/1000 [15:48<36:54,  3.16s/it]"
     ]
    },
    {
     "name": "stdout",
     "output_type": "stream",
     "text": [
      "Epoch [300/1000], Loss: 99489.5516\n"
     ]
    },
    {
     "name": "stderr",
     "output_type": "stream",
     "text": [
      " 40%|████      | 400/1000 [21:04<32:00,  3.20s/it]"
     ]
    },
    {
     "name": "stdout",
     "output_type": "stream",
     "text": [
      "Epoch [400/1000], Loss: 99381.8031\n"
     ]
    },
    {
     "name": "stderr",
     "output_type": "stream",
     "text": [
      " 50%|█████     | 500/1000 [26:20<26:48,  3.22s/it]"
     ]
    },
    {
     "name": "stdout",
     "output_type": "stream",
     "text": [
      "Epoch [500/1000], Loss: 99078.4625\n"
     ]
    },
    {
     "name": "stderr",
     "output_type": "stream",
     "text": [
      " 60%|██████    | 600/1000 [31:37<20:55,  3.14s/it]"
     ]
    },
    {
     "name": "stdout",
     "output_type": "stream",
     "text": [
      "Epoch [600/1000], Loss: 99012.3344\n"
     ]
    },
    {
     "name": "stderr",
     "output_type": "stream",
     "text": [
      " 70%|███████   | 700/1000 [36:51<15:49,  3.16s/it]"
     ]
    },
    {
     "name": "stdout",
     "output_type": "stream",
     "text": [
      "Epoch [700/1000], Loss: 98985.0922\n"
     ]
    },
    {
     "name": "stderr",
     "output_type": "stream",
     "text": [
      " 80%|████████  | 800/1000 [42:06<10:27,  3.14s/it]"
     ]
    },
    {
     "name": "stdout",
     "output_type": "stream",
     "text": [
      "Epoch [800/1000], Loss: 98991.2203\n"
     ]
    },
    {
     "name": "stderr",
     "output_type": "stream",
     "text": [
      " 90%|█████████ | 900/1000 [47:22<05:12,  3.12s/it]"
     ]
    },
    {
     "name": "stdout",
     "output_type": "stream",
     "text": [
      "Epoch [900/1000], Loss: 98948.3500\n"
     ]
    },
    {
     "name": "stderr",
     "output_type": "stream",
     "text": [
      "100%|██████████| 1000/1000 [52:38<00:00,  3.16s/it]"
     ]
    },
    {
     "name": "stdout",
     "output_type": "stream",
     "text": [
      "Epoch [1000/1000], Loss: 98931.5719\n",
      "Training completed.\n"
     ]
    },
    {
     "name": "stderr",
     "output_type": "stream",
     "text": [
      "\n"
     ]
    }
   ],
   "source": [
    "# # Initialize the model, loss function, and optimizer\n",
    "# model = FlexibleNN()\n",
    "# optimizer = optim.AdamW(model.parameters(), lr=learning_rate, weight_decay=weight_decay)\n",
    "# # optimizer = torch.optim.SGD(model.parameters(), lr=learning_rate, weight_decay=weight_decay)\n",
    "\n",
    "# train_dataset = TensorDataset(Z_train_tensor, Y_train_tensor)\n",
    "# train_loader = DataLoader(train_dataset, batch_size=batch_size, shuffle=True)\n",
    "\n",
    "# train_autoregressive_model(model, train_loader, optimizer, epochs)"
   ]
  },
  {
   "cell_type": "code",
   "execution_count": null,
   "id": "Ugnt7eTFEgWZ",
   "metadata": {
    "id": "Ugnt7eTFEgWZ"
   },
   "outputs": [],
   "source": [
    "# # Save the model state dictionary after training\n",
    "# model_save_path = \"/content/drive/My Drive/flexible_nn_model.pth\"\n",
    "# torch.save(model.state_dict(), model_save_path)"
   ]
  },
  {
   "cell_type": "code",
   "execution_count": 11,
   "id": "inhKLq2ZpRvp",
   "metadata": {
    "colab": {
     "base_uri": "https://localhost:8080/"
    },
    "id": "inhKLq2ZpRvp",
    "outputId": "a2309f0c-71b9-4a20-85d9-c97c589e1866"
   },
   "outputs": [
    {
     "name": "stderr",
     "output_type": "stream",
     "text": [
      " 10%|█         | 100/1000 [07:15<1:05:09,  4.34s/it]"
     ]
    },
    {
     "name": "stdout",
     "output_type": "stream",
     "text": [
      "Epoch [100/1000], Loss: 98918.3203\n"
     ]
    },
    {
     "name": "stderr",
     "output_type": "stream",
     "text": [
      " 20%|██        | 200/1000 [14:29<57:46,  4.33s/it]"
     ]
    },
    {
     "name": "stdout",
     "output_type": "stream",
     "text": [
      "Epoch [200/1000], Loss: 98870.8828\n"
     ]
    },
    {
     "name": "stderr",
     "output_type": "stream",
     "text": [
      " 30%|███       | 300/1000 [21:43<50:46,  4.35s/it]"
     ]
    },
    {
     "name": "stdout",
     "output_type": "stream",
     "text": [
      "Epoch [300/1000], Loss: 98848.7250\n"
     ]
    },
    {
     "name": "stderr",
     "output_type": "stream",
     "text": [
      " 40%|████      | 400/1000 [28:59<43:49,  4.38s/it]"
     ]
    },
    {
     "name": "stdout",
     "output_type": "stream",
     "text": [
      "Epoch [400/1000], Loss: 98828.1484\n"
     ]
    },
    {
     "name": "stderr",
     "output_type": "stream",
     "text": [
      " 50%|█████     | 500/1000 [36:15<36:14,  4.35s/it]"
     ]
    },
    {
     "name": "stdout",
     "output_type": "stream",
     "text": [
      "Epoch [500/1000], Loss: 98815.9312\n"
     ]
    },
    {
     "name": "stderr",
     "output_type": "stream",
     "text": [
      " 60%|██████    | 600/1000 [43:29<28:50,  4.33s/it]"
     ]
    },
    {
     "name": "stdout",
     "output_type": "stream",
     "text": [
      "Epoch [600/1000], Loss: 98817.6609\n"
     ]
    },
    {
     "name": "stderr",
     "output_type": "stream",
     "text": [
      " 70%|███████   | 700/1000 [50:43<21:33,  4.31s/it]"
     ]
    },
    {
     "name": "stdout",
     "output_type": "stream",
     "text": [
      "Epoch [700/1000], Loss: 98894.8750\n"
     ]
    },
    {
     "name": "stderr",
     "output_type": "stream",
     "text": [
      " 80%|████████  | 800/1000 [57:57<14:21,  4.31s/it]"
     ]
    },
    {
     "name": "stdout",
     "output_type": "stream",
     "text": [
      "Epoch [800/1000], Loss: 98851.5188\n"
     ]
    },
    {
     "name": "stderr",
     "output_type": "stream",
     "text": [
      " 90%|█████████ | 900/1000 [1:05:09<07:11,  4.32s/it]"
     ]
    },
    {
     "name": "stdout",
     "output_type": "stream",
     "text": [
      "Epoch [900/1000], Loss: 98822.1625\n"
     ]
    },
    {
     "name": "stderr",
     "output_type": "stream",
     "text": [
      "100%|██████████| 1000/1000 [1:12:23<00:00,  4.34s/it]"
     ]
    },
    {
     "name": "stdout",
     "output_type": "stream",
     "text": [
      "Epoch [1000/1000], Loss: 98805.5938\n",
      "Training completed.\n"
     ]
    },
    {
     "name": "stderr",
     "output_type": "stream",
     "text": [
      "\n"
     ]
    }
   ],
   "source": [
    "# Initialize the model, loss function, and optimizer\n",
    "model = BetaBernoulliNN()\n",
    "optimizer = optim.AdamW(model.parameters(), lr=learning_rate, weight_decay=weight_decay)\n",
    "\n",
    "train_dataset = TensorDataset(Z_train_tensor, Y_train_tensor)\n",
    "train_loader = DataLoader(train_dataset, batch_size=batch_size, shuffle=True)\n",
    "\n",
    "train_autoregressive_model(model, train_loader, optimizer, epochs)"
   ]
  },
  {
   "cell_type": "code",
   "execution_count": 12,
   "id": "CoCXev8NpVl9",
   "metadata": {
    "id": "CoCXev8NpVl9"
   },
   "outputs": [],
   "source": [
    "# Save the model state dictionary after training\n",
    "model_save_path = \"/content/drive/My Drive/BetaBernoulli_nn_model_TS.pth\"\n",
    "torch.save(model.state_dict(), model_save_path)"
   ]
  },
  {
   "cell_type": "code",
   "execution_count": null,
   "id": "71b184f9-d892-4c26-a0ad-66a8ad736a42",
   "metadata": {
    "id": "71b184f9-d892-4c26-a0ad-66a8ad736a42"
   },
   "outputs": [],
   "source": []
  }
 ],
 "metadata": {
  "accelerator": "GPU",
  "colab": {
   "gpuType": "A100",
   "machine_shape": "hm",
   "provenance": []
  },
  "kernelspec": {
   "display_name": "Python 3",
   "name": "python3"
  },
  "language_info": {
   "codemirror_mode": {
    "name": "ipython",
    "version": 3
   },
   "file_extension": ".py",
   "mimetype": "text/x-python",
   "name": "python",
   "nbconvert_exporter": "python",
   "pygments_lexer": "ipython3",
   "version": "3.9.16"
  }
 },
 "nbformat": 4,
 "nbformat_minor": 5
}
